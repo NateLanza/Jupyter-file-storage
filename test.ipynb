{
 "cells": [
  {
   "cell_type": "code",
   "execution_count": 3,
   "metadata": {},
   "outputs": [
    {
     "name": "stdout",
     "output_type": "stream",
     "text": [
      "{'1': {'1': 'b', '2': 'b', '3': 'b', 'a': 'b', 'b': 'a', 'key': 'value', 'asdf': 'asdf'}}\n"
     ]
    }
   ],
   "source": [
    "from backend import ExampleWidget\n",
    "from DataStoreWidget import init_data_store\n",
    "\n",
    "init_data_store(\"saved\")"
   ]
  },
  {
   "cell_type": "code",
   "execution_count": 4,
   "metadata": {},
   "outputs": [
    {
     "name": "stdout",
     "output_type": "stream",
     "text": [
      "DataStoreWidget initialized {'1': {'1': 'b', '2': 'b', '3': 'b', 'a': 'b', 'b': 'a', 'key': 'value', 'asdf': 'asdf'}}\n"
     ]
    },
    {
     "data": {
      "application/vnd.jupyter.widget-view+json": {
       "model_id": "9ab5922c2f6b4f98b03a4826d32f17d5",
       "version_major": 2,
       "version_minor": 1
      },
      "text/plain": [
       "ExampleWidget(dsw_data_store={'1': 'b', '2': 'b', '3': 'b', 'a': 'b', 'b': 'a', 'key': 'value', 'asdf': 'asdf'…"
      ]
     },
     "execution_count": 4,
     "metadata": {},
     "output_type": "execute_result"
    },
    {
     "name": "stdout",
     "output_type": "stream",
     "text": [
      "Data changed\n",
      "{'key': 'value'}\n",
      "{'1': {'key': 'value'}}\n",
      "Data changed\n",
      "{'1': 'b', '2': 'b', '3': 'b', 'a': 'b', 'b': 'a', 'key': 'value', 'asdf': 'asdf'}\n",
      "{'1': {'1': 'b', '2': 'b', '3': 'b', 'a': 'b', 'b': 'a', 'key': 'value', 'asdf': 'asdf'}}\n"
     ]
    }
   ],
   "source": [
    "ExampleWidget(\"1\")"
   ]
  },
  {
   "cell_type": "code",
   "execution_count": 3,
   "metadata": {},
   "outputs": [
    {
     "name": "stdout",
     "output_type": "stream",
     "text": [
      "{'1': 'b', '2': 'b', '3': 'asd', '4': 'asd', '5': 'ddf'}\n",
      "{'1': {'1': 'b', '2': 'b', '3': 'a', '4': 'a', '5': 'a', '6': 'a'}, '2': {'1': 'b', '2': 'b', '3': 'asd', '4': 'asd', '5': 'ddf'}}\n",
      "DataStoreWidget initialized {'1': {'1': 'b', '2': 'b', '3': 'a', '4': 'a', '5': 'a', '6': 'a'}, '2': {'1': 'b', '2': 'b', '3': 'asd', '4': 'asd', '5': 'ddf'}}\n"
     ]
    },
    {
     "data": {
      "application/vnd.jupyter.widget-view+json": {
       "model_id": "918c7a6a36d64ca5a87578abc5b275c7",
       "version_major": 2,
       "version_minor": 1
      },
      "text/plain": [
       "ExampleWidget(dsw_data_store={'1': 'b', '2': 'b', '3': 'asd', '4': 'asd', '5': 'ddf'}, dsw_id='2')"
      ]
     },
     "execution_count": 3,
     "metadata": {},
     "output_type": "execute_result"
    }
   ],
   "source": [
    "ExampleWidget(\"2\")"
   ]
  }
 ],
 "metadata": {
  "kernelspec": {
   "display_name": ".venv",
   "language": "python",
   "name": "python3"
  },
  "language_info": {
   "codemirror_mode": {
    "name": "ipython",
    "version": 3
   },
   "file_extension": ".py",
   "mimetype": "text/x-python",
   "name": "python",
   "nbconvert_exporter": "python",
   "pygments_lexer": "ipython3",
   "version": "3.9.6"
  }
 },
 "nbformat": 4,
 "nbformat_minor": 2
}
