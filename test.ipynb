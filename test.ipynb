{
 "cells": [
  {
   "cell_type": "code",
   "execution_count": 5,
   "metadata": {},
   "outputs": [
    {
     "data": {
      "application/vnd.jupyter.widget-view+json": {
       "model_id": "349ba0047d224fb49df6a38c47297cb0",
       "version_major": 2,
       "version_minor": 1
      },
      "text/plain": [
       "ExampleWidget(value=['ex'])"
      ]
     },
     "execution_count": 5,
     "metadata": {},
     "output_type": "execute_result"
    },
    {
     "name": "stdout",
     "output_type": "stream",
     "text": [
      "{'name': 'value', 'old': ['ex'], 'new': ['ex', ''], 'owner': ExampleWidget(value=['ex', '']), 'type': 'change'}\n",
      "{'name': 'value', 'old': ['ex', ''], 'new': ['ex', '', 'abc'], 'owner': ExampleWidget(value=['ex', '', 'abc']), 'type': 'change'}\n",
      "{'name': 'value', 'old': ['ex', '', 'abc'], 'new': ['ex', '', 'abc', 'asdf'], 'owner': ExampleWidget(value=['ex', '', 'abc', 'asdf']), 'type': 'change'}\n"
     ]
    }
   ],
   "source": [
    "from backend import ExampleWidget\n",
    "\n",
    "w = ExampleWidget()\n",
    "w.observe(lambda change: print(change), names='value')\n",
    "w"
   ]
  }
 ],
 "metadata": {
  "kernelspec": {
   "display_name": ".venv",
   "language": "python",
   "name": "python3"
  },
  "language_info": {
   "codemirror_mode": {
    "name": "ipython",
    "version": 3
   },
   "file_extension": ".py",
   "mimetype": "text/x-python",
   "name": "python",
   "nbconvert_exporter": "python",
   "pygments_lexer": "ipython3",
   "version": "3.9.6"
  }
 },
 "nbformat": 4,
 "nbformat_minor": 2
}
