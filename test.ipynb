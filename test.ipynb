{
 "cells": [
  {
   "cell_type": "code",
   "execution_count": 1,
   "metadata": {},
   "outputs": [
    {
     "name": "stdout",
     "output_type": "stream",
     "text": [
      "{'1': 'a', '2': 'a'}\n",
      "{'1': {'1': 'a', '2': 'a'}, '2': {'1': 'asd', '2': 'asd'}}\n",
      "DataStoreWidget initialized {'1': {'1': 'a', '2': 'a'}, '2': {'1': 'asd', '2': 'asd'}}\n"
     ]
    },
    {
     "data": {
      "application/vnd.jupyter.widget-view+json": {
       "model_id": "b09df7106c254c4eb89d4ea5c6fbd435",
       "version_major": 2,
       "version_minor": 1
      },
      "text/plain": [
       "ExampleWidget(dsw_data_store={'1': 'a', '2': 'a'}, dsw_id='1')"
      ]
     },
     "execution_count": 1,
     "metadata": {},
     "output_type": "execute_result"
    },
    {
     "name": "stdout",
     "output_type": "stream",
     "text": [
      "{'1': 'bb', '2': 'bb'}\n",
      "{'1': {'1': 'bb', '2': 'bb'}, '2': {'1': 'asd', '2': 'asd'}}\n",
      "{'1': 'bb', '2': 'bb', '3': 'cc'}\n",
      "{'1': {'1': 'bb', '2': 'bb', '3': 'cc'}, '2': {'1': 'asd', '2': 'asd'}}\n",
      "{'1': 'bb', '2': 'bb', '3': 'cc', '4': 'dd'}\n",
      "{'1': {'1': 'bb', '2': 'bb', '3': 'cc', '4': 'dd'}, '2': {'1': 'asd', '2': 'asd', '3': 'asd', '4': 'asd'}}\n"
     ]
    }
   ],
   "source": [
    "from backend import ExampleWidget\n",
    "from DataStoreWidget import init_data_store\n",
    "\n",
    "init_data_store(\"saved\")\n",
    "\n",
    "ExampleWidget(\"1\")"
   ]
  },
  {
   "cell_type": "code",
   "execution_count": 2,
   "metadata": {},
   "outputs": [
    {
     "name": "stdout",
     "output_type": "stream",
     "text": [
      "{'1': 'asd', '2': 'asd'}\n",
      "{'1': {'1': 'bb', '2': 'bb', '3': 'cc'}, '2': {'1': 'asd', '2': 'asd'}}\n",
      "DataStoreWidget initialized {'1': {'1': 'bb', '2': 'bb', '3': 'cc'}, '2': {'1': 'asd', '2': 'asd'}}\n"
     ]
    },
    {
     "data": {
      "application/vnd.jupyter.widget-view+json": {
       "model_id": "58bd9568e87048d2b285540540a6e8d0",
       "version_major": 2,
       "version_minor": 1
      },
      "text/plain": [
       "ExampleWidget(dsw_data_store={'1': 'asd', '2': 'asd'}, dsw_id='2')"
      ]
     },
     "execution_count": 2,
     "metadata": {},
     "output_type": "execute_result"
    },
    {
     "name": "stdout",
     "output_type": "stream",
     "text": [
      "{'1': 'asd', '2': 'asd', '3': 'asd'}\n",
      "{'1': {'1': 'bb', '2': 'bb', '3': 'cc'}, '2': {'1': 'asd', '2': 'asd', '3': 'asd'}}\n",
      "{'1': 'asd', '2': 'asd', '3': 'asd', '4': 'asd'}\n",
      "{'1': {'1': 'bb', '2': 'bb', '3': 'cc'}, '2': {'1': 'asd', '2': 'asd', '3': 'asd', '4': 'asd'}}\n",
      "{'1': 'asd', '2': 'asd', '3': 'asd', '4': 'asd', '5': 'ddf'}\n",
      "{'1': {'1': 'bb', '2': 'bb', '3': 'cc', '4': 'dd'}, '2': {'1': 'asd', '2': 'asd', '3': 'asd', '4': 'asd', '5': 'ddf'}}\n"
     ]
    }
   ],
   "source": [
    "ExampleWidget(\"2\")"
   ]
  }
 ],
 "metadata": {
  "kernelspec": {
   "display_name": ".venv",
   "language": "python",
   "name": "python3"
  },
  "language_info": {
   "codemirror_mode": {
    "name": "ipython",
    "version": 3
   },
   "file_extension": ".py",
   "mimetype": "text/x-python",
   "name": "python",
   "nbconvert_exporter": "python",
   "pygments_lexer": "ipython3",
   "version": "3.9.6"
  }
 },
 "nbformat": 4,
 "nbformat_minor": 2
}
