{
 "cells": [
  {
   "cell_type": "code",
   "execution_count": 1,
   "metadata": {},
   "outputs": [
    {
     "data": {
      "application/vnd.jupyter.widget-view+json": {
       "model_id": "8ce32dde7a454914b7cc800b62820b1d",
       "version_major": 2,
       "version_minor": 1
      },
      "text/plain": [
       "ExampleWidget()"
      ]
     },
     "execution_count": 1,
     "metadata": {},
     "output_type": "execute_result"
    },
    {
     "name": "stdout",
     "output_type": "stream",
     "text": [
      "{'name': 'dsw_data_store', 'old': {}, 'new': {'1': 'a', '2': 'a'}, 'owner': ExampleWidget(dsw_data_store={'1': 'a', '2': 'a'}), 'type': 'change'}\n",
      "{'name': 'dsw_data_store', 'old': {'1': 'a', '2': 'a'}, 'new': {'1': 'a', '2': 'a', '3': 'b'}, 'owner': ExampleWidget(dsw_data_store={'1': 'a', '2': 'a', '3': 'b'}), 'type': 'change'}\n"
     ]
    }
   ],
   "source": [
    "from backend import ExampleWidget\n",
    "\n",
    "ExampleWidget()"
   ]
  }
 ],
 "metadata": {
  "kernelspec": {
   "display_name": ".venv",
   "language": "python",
   "name": "python3"
  },
  "language_info": {
   "codemirror_mode": {
    "name": "ipython",
    "version": 3
   },
   "file_extension": ".py",
   "mimetype": "text/x-python",
   "name": "python",
   "nbconvert_exporter": "python",
   "pygments_lexer": "ipython3",
   "version": "3.9.6"
  }
 },
 "nbformat": 4,
 "nbformat_minor": 2
}
