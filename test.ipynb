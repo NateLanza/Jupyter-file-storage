{
 "cells": [
  {
   "cell_type": "code",
   "execution_count": 1,
   "metadata": {},
   "outputs": [
    {
     "data": {
      "application/vnd.jupyter.widget-view+json": {
       "model_id": "8f96913f64c14a9fb09e9855f0c412ff",
       "version_major": 2,
       "version_minor": 1
      },
      "text/plain": [
       "ExampleWidget(dsw_id='1')"
      ]
     },
     "execution_count": 1,
     "metadata": {},
     "output_type": "execute_result"
    },
    {
     "name": "stdout",
     "output_type": "stream",
     "text": [
      "{'name': 'dsw_data_store', 'old': {}, 'new': {'1': '1', '2': '1'}, 'owner': ExampleWidget(dsw_data_store={'1': '1', '2': '1'}, dsw_id='1'), 'type': 'change'}\n",
      "{'name': 'dsw_data_store', 'old': {'1': '1', '2': '1'}, 'new': {'1': '1', '2': '1', '3': '4213'}, 'owner': ExampleWidget(dsw_data_store={'1': '1', '2': '1', '3': '4213'}, dsw_id='1'), 'type': 'change'}\n"
     ]
    }
   ],
   "source": [
    "from backend import ExampleWidget\n",
    "\n",
    "ExampleWidget(\"saved\", \"1\")"
   ]
  },
  {
   "cell_type": "code",
   "execution_count": 4,
   "metadata": {},
   "outputs": [
    {
     "data": {
      "application/vnd.jupyter.widget-view+json": {
       "model_id": "730a7819818d4f8294fe60bce88649a4",
       "version_major": 2,
       "version_minor": 1
      },
      "text/plain": [
       "ExampleWidget(dsw_id='2')"
      ]
     },
     "execution_count": 4,
     "metadata": {},
     "output_type": "execute_result"
    },
    {
     "name": "stdout",
     "output_type": "stream",
     "text": [
      "{'name': 'dsw_data_store', 'old': {}, 'new': {'1': '1', '2': '13'}, 'owner': ExampleWidget(dsw_data_store={'1': '1', '2': '13'}, dsw_id='2'), 'type': 'change'}\n",
      "{'name': 'dsw_data_store', 'old': {'1': '1', '2': '13'}, 'new': {'1': '1', '2': '13', '3': '134'}, 'owner': ExampleWidget(dsw_data_store={'1': '1', '2': '13', '3': '134'}, dsw_id='2'), 'type': 'change'}\n",
      "{'name': 'dsw_data_store', 'old': {'1': '1', '2': '13', '3': '134'}, 'new': {'1': '1', '2': '13', '3': '134', '4': '88888'}, 'owner': ExampleWidget(dsw_data_store={'1': '1', '2': '13', '3': '134', '4': '88888'}, dsw_id='2'), 'type': 'change'}\n"
     ]
    }
   ],
   "source": [
    "ExampleWidget(\"saved\", \"2\")"
   ]
  }
 ],
 "metadata": {
  "kernelspec": {
   "display_name": ".venv",
   "language": "python",
   "name": "python3"
  },
  "language_info": {
   "codemirror_mode": {
    "name": "ipython",
    "version": 3
   },
   "file_extension": ".py",
   "mimetype": "text/x-python",
   "name": "python",
   "nbconvert_exporter": "python",
   "pygments_lexer": "ipython3",
   "version": "3.9.6"
  }
 },
 "nbformat": 4,
 "nbformat_minor": 2
}
