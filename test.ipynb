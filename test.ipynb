{
 "cells": [
  {
   "cell_type": "code",
   "execution_count": 1,
   "metadata": {},
   "outputs": [
    {
     "name": "stdout",
     "output_type": "stream",
     "text": [
      "b'\\x80\\x04\\x95-\\x00\\x00\\x00\\x00\\x00\\x00\\x00}\\x94(\\x8c\\x011\\x94}\\x94(h\\x01\\x8c\\x02aa\\x94\\x8c\\x012\\x94\\x8c\\x02aa\\x94uh\\x04}\\x94(h\\x01\\x8c\\x01b\\x94h\\x04h\\x07uu.'\n",
      "{'1': {'1': 'aa', '2': 'aa'}, '2': {'1': 'b', '2': 'b'}}\n",
      "{'name': 'dsw_data_store', 'old': {}, 'new': {'1': 'aa', '2': 'aa'}, 'owner': ExampleWidget(dsw_data_store={'1': 'aa', '2': 'aa'}, dsw_id='1'), 'type': 'change'}\n",
      "{'1': {'1': 'aa', '2': 'aa'}, '2': {'1': 'b', '2': 'b'}}\n",
      "{'1': 'aa', '2': 'aa'}\n"
     ]
    },
    {
     "data": {
      "application/vnd.jupyter.widget-view+json": {
       "model_id": "39e4da5a4315405780975641d5877131",
       "version_major": 2,
       "version_minor": 1
      },
      "text/plain": [
       "ExampleWidget(dsw_data_store={'1': 'aa', '2': 'aa'}, dsw_id='1')"
      ]
     },
     "execution_count": 1,
     "metadata": {},
     "output_type": "execute_result"
    }
   ],
   "source": [
    "from backend import ExampleWidget\n",
    "from DataStoreWidget import init_data_store\n",
    "\n",
    "init_data_store(\"saved\")\n",
    "\n",
    "ExampleWidget(\"1\")"
   ]
  },
  {
   "cell_type": "code",
   "execution_count": 2,
   "metadata": {},
   "outputs": [
    {
     "name": "stdout",
     "output_type": "stream",
     "text": [
      "b'\\x80\\x04\\x95-\\x00\\x00\\x00\\x00\\x00\\x00\\x00}\\x94(\\x8c\\x011\\x94}\\x94(h\\x01\\x8c\\x02aa\\x94\\x8c\\x012\\x94\\x8c\\x02aa\\x94uh\\x04}\\x94(h\\x01\\x8c\\x01b\\x94h\\x04h\\x07uu.'\n",
      "{'1': {'1': 'aa', '2': 'aa'}, '2': {'1': 'b', '2': 'b'}}\n",
      "{'name': 'dsw_data_store', 'old': {}, 'new': {'1': 'b', '2': 'b'}, 'owner': ExampleWidget(dsw_data_store={'1': 'b', '2': 'b'}, dsw_id='2'), 'type': 'change'}\n",
      "{'1': {'1': 'aa', '2': 'aa'}, '2': {'1': 'b', '2': 'b'}}\n",
      "{'1': 'b', '2': 'b'}\n"
     ]
    },
    {
     "data": {
      "application/vnd.jupyter.widget-view+json": {
       "model_id": "01539728a9e449eab2ec8053dd20ea52",
       "version_major": 2,
       "version_minor": 1
      },
      "text/plain": [
       "ExampleWidget(dsw_data_store={'1': 'b', '2': 'b'}, dsw_id='2')"
      ]
     },
     "execution_count": 2,
     "metadata": {},
     "output_type": "execute_result"
    }
   ],
   "source": [
    "ExampleWidget(\"2\")"
   ]
  }
 ],
 "metadata": {
  "kernelspec": {
   "display_name": ".venv",
   "language": "python",
   "name": "python3"
  },
  "language_info": {
   "codemirror_mode": {
    "name": "ipython",
    "version": 3
   },
   "file_extension": ".py",
   "mimetype": "text/x-python",
   "name": "python",
   "nbconvert_exporter": "python",
   "pygments_lexer": "ipython3",
   "version": "3.9.6"
  }
 },
 "nbformat": 4,
 "nbformat_minor": 2
}
