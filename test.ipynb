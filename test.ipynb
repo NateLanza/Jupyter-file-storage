{
 "cells": [
  {
   "cell_type": "code",
   "execution_count": null,
   "metadata": {},
   "outputs": [
    {
     "ename": "TypeError",
     "evalue": "init_data_store() missing 1 required positional argument: 'file_name'",
     "output_type": "error",
     "traceback": [
      "\u001b[0;31m---------------------------------------------------------------------------\u001b[0m",
      "\u001b[0;31mTypeError\u001b[0m                                 Traceback (most recent call last)",
      "Cell \u001b[0;32mIn[1], line 4\u001b[0m\n\u001b[1;32m      1\u001b[0m \u001b[38;5;28;01mfrom\u001b[39;00m\u001b[38;5;250m \u001b[39m\u001b[38;5;21;01mbackend\u001b[39;00m\u001b[38;5;250m \u001b[39m\u001b[38;5;28;01mimport\u001b[39;00m ExampleWidget\n\u001b[1;32m      2\u001b[0m \u001b[38;5;28;01mfrom\u001b[39;00m\u001b[38;5;250m \u001b[39m\u001b[38;5;21;01mDataStoreWidget\u001b[39;00m\u001b[38;5;250m \u001b[39m\u001b[38;5;28;01mimport\u001b[39;00m init_data_store\n\u001b[0;32m----> 4\u001b[0m \u001b[43minit_data_store\u001b[49m\u001b[43m(\u001b[49m\u001b[43m)\u001b[49m\n\u001b[1;32m      6\u001b[0m ExampleWidget(\u001b[38;5;124m\"\u001b[39m\u001b[38;5;124msaved\u001b[39m\u001b[38;5;124m\"\u001b[39m, \u001b[38;5;124m\"\u001b[39m\u001b[38;5;124m1\u001b[39m\u001b[38;5;124m\"\u001b[39m)\n",
      "\u001b[0;31mTypeError\u001b[0m: init_data_store() missing 1 required positional argument: 'file_name'"
     ]
    }
   ],
   "source": [
    "from backend import ExampleWidget\n",
    "from DataStoreWidget import init_data_store\n",
    "\n",
    "init_data_store(\"saved\")\n",
    "\n",
    "ExampleWidget(\"1\")"
   ]
  },
  {
   "cell_type": "code",
   "execution_count": 4,
   "metadata": {},
   "outputs": [
    {
     "data": {
      "application/vnd.jupyter.widget-view+json": {
       "model_id": "730a7819818d4f8294fe60bce88649a4",
       "version_major": 2,
       "version_minor": 1
      },
      "text/plain": [
       "ExampleWidget(dsw_id='2')"
      ]
     },
     "execution_count": 4,
     "metadata": {},
     "output_type": "execute_result"
    },
    {
     "name": "stdout",
     "output_type": "stream",
     "text": [
      "{'name': 'dsw_data_store', 'old': {}, 'new': {'1': '1', '2': '13'}, 'owner': ExampleWidget(dsw_data_store={'1': '1', '2': '13'}, dsw_id='2'), 'type': 'change'}\n",
      "{'name': 'dsw_data_store', 'old': {'1': '1', '2': '13'}, 'new': {'1': '1', '2': '13', '3': '134'}, 'owner': ExampleWidget(dsw_data_store={'1': '1', '2': '13', '3': '134'}, dsw_id='2'), 'type': 'change'}\n",
      "{'name': 'dsw_data_store', 'old': {'1': '1', '2': '13', '3': '134'}, 'new': {'1': '1', '2': '13', '3': '134', '4': '88888'}, 'owner': ExampleWidget(dsw_data_store={'1': '1', '2': '13', '3': '134', '4': '88888'}, dsw_id='2'), 'type': 'change'}\n"
     ]
    }
   ],
   "source": [
    "ExampleWidget(\"2\")"
   ]
  }
 ],
 "metadata": {
  "kernelspec": {
   "display_name": ".venv",
   "language": "python",
   "name": "python3"
  },
  "language_info": {
   "codemirror_mode": {
    "name": "ipython",
    "version": 3
   },
   "file_extension": ".py",
   "mimetype": "text/x-python",
   "name": "python",
   "nbconvert_exporter": "python",
   "pygments_lexer": "ipython3",
   "version": "3.9.6"
  }
 },
 "nbformat": 4,
 "nbformat_minor": 2
}
